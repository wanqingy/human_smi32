{
 "cells": [
  {
   "cell_type": "code",
   "execution_count": 1,
   "metadata": {},
   "outputs": [],
   "source": [
    "from affpyramid import AffPyramid\n",
    "import numpy as np\n",
    "from skimage import color\n",
    "import tifffile as tiff"
   ]
  },
  {
   "cell_type": "code",
   "execution_count": null,
   "metadata": {},
   "outputs": [],
   "source": [
    "image_id = 3760001747\n",
    "aff_path = '/ACdata/Users/tmp/smi32/' + str(image_id) + '/' + str(image_id) + '.aff'\n",
    "tiff_path = '/ACdata/Users/wanqing/data/human_smi32/' + str(image_id) + '/' + str(image_id) + '.tif'"
   ]
  },
  {
   "cell_type": "code",
   "execution_count": 3,
   "metadata": {},
   "outputs": [
    {
     "data": {
      "text/plain": [
       "9"
      ]
     },
     "execution_count": 3,
     "metadata": {},
     "output_type": "execute_result"
    }
   ],
   "source": [
    "aff = AffPyramid(aff_path)\n",
    "\n",
    "aff.num_tiers   # number of pyramid tiers; the higher tier, the higher resolution"
   ]
  },
  {
   "cell_type": "code",
   "execution_count": 4,
   "metadata": {},
   "outputs": [],
   "source": [
    "# returns a numpy array containing all tiles from a tier stitched together\n",
    "tier = aff.num_tiers - 2\n",
    "rgb_image = aff.get_tier(tier)"
   ]
  },
  {
   "cell_type": "code",
   "execution_count": 5,
   "metadata": {},
   "outputs": [
    {
     "data": {
      "text/plain": [
       "array([[28, 28, 28, ..., 28, 28, 28],\n",
       "       [28, 28, 28, ..., 28, 28, 28],\n",
       "       [28, 28, 28, ..., 28, 28, 28],\n",
       "       ...,\n",
       "       [28, 28, 28, ..., 28, 28, 28],\n",
       "       [28, 28, 28, ..., 28, 28, 28],\n",
       "       [28, 28, 28, ..., 28, 28, 28]], dtype=uint8)"
      ]
     },
     "execution_count": 5,
     "metadata": {},
     "output_type": "execute_result"
    }
   ],
   "source": [
    "# convert rgb image to 8bit grayscale\n",
    "grayscale_array = color.rgb2gray(rgb_image)\n",
    "\n",
    "# Convert to 8-bit grayscale\n",
    "grayscale_8bit = (grayscale_array * 255).astype(np.uint8)\n",
    "\n",
    "grayscale_8bit\n"
   ]
  },
  {
   "cell_type": "code",
   "execution_count": 22,
   "metadata": {},
   "outputs": [],
   "source": [
    "# save the image\n",
    "tiff.imwrite(tiff_path, grayscale_8bit)"
   ]
  }
 ],
 "metadata": {
  "kernelspec": {
   "display_name": "smi32",
   "language": "python",
   "name": "python3"
  },
  "language_info": {
   "codemirror_mode": {
    "name": "ipython",
    "version": 3
   },
   "file_extension": ".py",
   "mimetype": "text/x-python",
   "name": "python",
   "nbconvert_exporter": "python",
   "pygments_lexer": "ipython3",
   "version": "3.11.11"
  }
 },
 "nbformat": 4,
 "nbformat_minor": 2
}
